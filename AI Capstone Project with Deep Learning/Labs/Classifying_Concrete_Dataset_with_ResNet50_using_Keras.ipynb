{
  "cells": [
    {
      "cell_type": "markdown",
      "metadata": {
        "id": "-wjgbs7sLw2T"
      },
      "source": [
        "# Using Pre-Trained ResNet50 Model to classify Concrete Dataset using Keras"
      ]
    },
    {
      "cell_type": "markdown",
      "metadata": {
        "id": "pTyklsR9Lw2V"
      },
      "source": [
        "## Import Libraries and Packages\n"
      ]
    },
    {
      "cell_type": "code",
      "execution_count": null,
      "metadata": {
        "tags": [],
        "id": "88eSuM4XLw2V"
      },
      "outputs": [],
      "source": [
        "import skillsnetwork"
      ]
    },
    {
      "cell_type": "code",
      "execution_count": null,
      "metadata": {
        "tags": [],
        "id": "rzN7CrDvLw2W",
        "outputId": "96d105f5-b3a1-4910-c0b0-51c525fabdea"
      },
      "outputs": [
        {
          "name": "stderr",
          "output_type": "stream",
          "text": [
            "Using TensorFlow backend.\n",
            "/home/jupyterlab/conda/envs/python/lib/python3.7/site-packages/tensorflow/python/framework/dtypes.py:516: FutureWarning: Passing (type, 1) or '1type' as a synonym of type is deprecated; in a future version of numpy, it will be understood as (type, (1,)) / '(1,)type'.\n",
            "  _np_qint8 = np.dtype([(\"qint8\", np.int8, 1)])\n",
            "/home/jupyterlab/conda/envs/python/lib/python3.7/site-packages/tensorflow/python/framework/dtypes.py:517: FutureWarning: Passing (type, 1) or '1type' as a synonym of type is deprecated; in a future version of numpy, it will be understood as (type, (1,)) / '(1,)type'.\n",
            "  _np_quint8 = np.dtype([(\"quint8\", np.uint8, 1)])\n",
            "/home/jupyterlab/conda/envs/python/lib/python3.7/site-packages/tensorflow/python/framework/dtypes.py:518: FutureWarning: Passing (type, 1) or '1type' as a synonym of type is deprecated; in a future version of numpy, it will be understood as (type, (1,)) / '(1,)type'.\n",
            "  _np_qint16 = np.dtype([(\"qint16\", np.int16, 1)])\n",
            "/home/jupyterlab/conda/envs/python/lib/python3.7/site-packages/tensorflow/python/framework/dtypes.py:519: FutureWarning: Passing (type, 1) or '1type' as a synonym of type is deprecated; in a future version of numpy, it will be understood as (type, (1,)) / '(1,)type'.\n",
            "  _np_quint16 = np.dtype([(\"quint16\", np.uint16, 1)])\n",
            "/home/jupyterlab/conda/envs/python/lib/python3.7/site-packages/tensorflow/python/framework/dtypes.py:520: FutureWarning: Passing (type, 1) or '1type' as a synonym of type is deprecated; in a future version of numpy, it will be understood as (type, (1,)) / '(1,)type'.\n",
            "  _np_qint32 = np.dtype([(\"qint32\", np.int32, 1)])\n",
            "/home/jupyterlab/conda/envs/python/lib/python3.7/site-packages/tensorflow/python/framework/dtypes.py:525: FutureWarning: Passing (type, 1) or '1type' as a synonym of type is deprecated; in a future version of numpy, it will be understood as (type, (1,)) / '(1,)type'.\n",
            "  np_resource = np.dtype([(\"resource\", np.ubyte, 1)])\n",
            "/home/jupyterlab/conda/envs/python/lib/python3.7/site-packages/tensorboard/compat/tensorflow_stub/dtypes.py:541: FutureWarning: Passing (type, 1) or '1type' as a synonym of type is deprecated; in a future version of numpy, it will be understood as (type, (1,)) / '(1,)type'.\n",
            "  _np_qint8 = np.dtype([(\"qint8\", np.int8, 1)])\n",
            "/home/jupyterlab/conda/envs/python/lib/python3.7/site-packages/tensorboard/compat/tensorflow_stub/dtypes.py:542: FutureWarning: Passing (type, 1) or '1type' as a synonym of type is deprecated; in a future version of numpy, it will be understood as (type, (1,)) / '(1,)type'.\n",
            "  _np_quint8 = np.dtype([(\"quint8\", np.uint8, 1)])\n",
            "/home/jupyterlab/conda/envs/python/lib/python3.7/site-packages/tensorboard/compat/tensorflow_stub/dtypes.py:543: FutureWarning: Passing (type, 1) or '1type' as a synonym of type is deprecated; in a future version of numpy, it will be understood as (type, (1,)) / '(1,)type'.\n",
            "  _np_qint16 = np.dtype([(\"qint16\", np.int16, 1)])\n",
            "/home/jupyterlab/conda/envs/python/lib/python3.7/site-packages/tensorboard/compat/tensorflow_stub/dtypes.py:544: FutureWarning: Passing (type, 1) or '1type' as a synonym of type is deprecated; in a future version of numpy, it will be understood as (type, (1,)) / '(1,)type'.\n",
            "  _np_quint16 = np.dtype([(\"quint16\", np.uint16, 1)])\n",
            "/home/jupyterlab/conda/envs/python/lib/python3.7/site-packages/tensorboard/compat/tensorflow_stub/dtypes.py:545: FutureWarning: Passing (type, 1) or '1type' as a synonym of type is deprecated; in a future version of numpy, it will be understood as (type, (1,)) / '(1,)type'.\n",
            "  _np_qint32 = np.dtype([(\"qint32\", np.int32, 1)])\n",
            "/home/jupyterlab/conda/envs/python/lib/python3.7/site-packages/tensorboard/compat/tensorflow_stub/dtypes.py:550: FutureWarning: Passing (type, 1) or '1type' as a synonym of type is deprecated; in a future version of numpy, it will be understood as (type, (1,)) / '(1,)type'.\n",
            "  np_resource = np.dtype([(\"resource\", np.ubyte, 1)])\n"
          ]
        }
      ],
      "source": [
        "from keras.preprocessing.image import ImageDataGenerator"
      ]
    },
    {
      "cell_type": "code",
      "execution_count": null,
      "metadata": {
        "tags": [],
        "id": "e1oIIFR9Lw2X"
      },
      "outputs": [],
      "source": [
        "import keras\n",
        "from keras.models import Sequential\n",
        "from keras.layers import Dense"
      ]
    },
    {
      "cell_type": "code",
      "execution_count": null,
      "metadata": {
        "tags": [],
        "id": "5zbSSMmJLw2X"
      },
      "outputs": [],
      "source": [
        "from keras.applications import ResNet50\n",
        "from keras.applications.resnet50 import preprocess_input"
      ]
    },
    {
      "cell_type": "markdown",
      "metadata": {
        "id": "cm6V7SZrLw2Y"
      },
      "source": [
        "## Download Data\n"
      ]
    },
    {
      "cell_type": "code",
      "execution_count": null,
      "metadata": {
        "tags": [],
        "colab": {
          "referenced_widgets": [
            "87baf63e9c9140949832c40eedb3bfb4",
            "bf1fee2d82834378b26a4486b63b12fc"
          ]
        },
        "id": "lh1sF4GyLw2Y",
        "outputId": "8a896fc4-bdfd-49a4-f18b-ce3b3460110c"
      },
      "outputs": [
        {
          "data": {
            "application/vnd.jupyter.widget-view+json": {
              "model_id": "87baf63e9c9140949832c40eedb3bfb4",
              "version_major": 2,
              "version_minor": 0
            },
            "text/plain": [
              "Downloading concrete_data_week3.zip:   0%|          | 0/97863179 [00:00<?, ?it/s]"
            ]
          },
          "metadata": {},
          "output_type": "display_data"
        },
        {
          "data": {
            "application/vnd.jupyter.widget-view+json": {
              "model_id": "bf1fee2d82834378b26a4486b63b12fc",
              "version_major": 2,
              "version_minor": 0
            },
            "text/plain": [
              "  0%|          | 0/30036 [00:00<?, ?it/s]"
            ]
          },
          "metadata": {},
          "output_type": "display_data"
        },
        {
          "name": "stdout",
          "output_type": "stream",
          "text": [
            "Saved to '.'\n"
          ]
        }
      ],
      "source": [
        "## get the data\n",
        "await skillsnetwork.prepare(\"https://cf-courses-data.s3.us.cloud-object-storage.appdomain.cloud/IBMDeveloperSkillsNetwork-DL0321EN-SkillsNetwork/concrete_data_week3.zip\", overwrite=True)"
      ]
    },
    {
      "cell_type": "code",
      "execution_count": null,
      "metadata": {
        "tags": [],
        "id": "i6tlHq9NLw2Z"
      },
      "outputs": [],
      "source": [
        "num_classes = 2\n",
        "\n",
        "image_resize = 224\n",
        "\n",
        "batch_size_training = 100\n",
        "batch_size_validation = 100"
      ]
    },
    {
      "cell_type": "code",
      "execution_count": null,
      "metadata": {
        "tags": [],
        "id": "YA_0NhDhLw2Z"
      },
      "outputs": [],
      "source": [
        "data_generator = ImageDataGenerator(\n",
        "    preprocessing_function=preprocess_input,\n",
        ")"
      ]
    },
    {
      "cell_type": "code",
      "execution_count": null,
      "metadata": {
        "tags": [],
        "id": "ZAr9AHITLw2a",
        "outputId": "99bd7109-183f-4292-e0d3-1bc7e1293603"
      },
      "outputs": [
        {
          "name": "stdout",
          "output_type": "stream",
          "text": [
            "Found 10001 images belonging to 2 classes.\n"
          ]
        }
      ],
      "source": [
        "train_generator = data_generator.flow_from_directory(\n",
        "    'content/train',\n",
        "    target_size=(image_resize, image_resize),\n",
        "    batch_size=batch_size_training,\n",
        "    class_mode='categorical')"
      ]
    },
    {
      "cell_type": "code",
      "execution_count": null,
      "metadata": {
        "tags": [],
        "id": "_JOo7O0RLw2a",
        "outputId": "9d3f295a-908e-446a-9c73-17ff1a537d2a"
      },
      "outputs": [
        {
          "name": "stdout",
          "output_type": "stream",
          "text": [
            "Found 5001 images belonging to 2 classes.\n"
          ]
        }
      ],
      "source": [
        "val_generator = data_generator.flow_from_directory(\n",
        "    'content/valid',\n",
        "    target_size=(image_resize, image_resize),\n",
        "    batch_size=batch_size_validation,\n",
        "    class_mode='categorical')"
      ]
    },
    {
      "cell_type": "markdown",
      "metadata": {
        "id": "hYvqnzw9Lw2b"
      },
      "source": [
        "## Build, Compile and Fit Model\n"
      ]
    },
    {
      "cell_type": "code",
      "execution_count": null,
      "metadata": {
        "tags": [],
        "id": "KA0TSHRyLw2b",
        "outputId": "b754dce6-dc80-4364-8985-8f954e8730a3"
      },
      "outputs": [
        {
          "name": "stdout",
          "output_type": "stream",
          "text": [
            "WARNING:tensorflow:From /home/jupyterlab/conda/envs/python/lib/python3.7/site-packages/keras/backend/tensorflow_backend.py:68: The name tf.get_default_graph is deprecated. Please use tf.compat.v1.get_default_graph instead.\n",
            "\n"
          ]
        }
      ],
      "source": [
        "model = Sequential()"
      ]
    },
    {
      "cell_type": "code",
      "execution_count": null,
      "metadata": {
        "tags": [],
        "id": "aK13k1S3Lw2b",
        "outputId": "39dd403b-a658-45eb-e78a-25ad5c035744"
      },
      "outputs": [
        {
          "name": "stdout",
          "output_type": "stream",
          "text": [
            "WARNING:tensorflow:From /home/jupyterlab/conda/envs/python/lib/python3.7/site-packages/keras/backend/tensorflow_backend.py:508: The name tf.placeholder is deprecated. Please use tf.compat.v1.placeholder instead.\n",
            "\n",
            "WARNING:tensorflow:From /home/jupyterlab/conda/envs/python/lib/python3.7/site-packages/keras/backend/tensorflow_backend.py:3837: The name tf.random_uniform is deprecated. Please use tf.random.uniform instead.\n",
            "\n",
            "WARNING:tensorflow:From /home/jupyterlab/conda/envs/python/lib/python3.7/site-packages/keras/backend/tensorflow_backend.py:168: The name tf.get_default_session is deprecated. Please use tf.compat.v1.get_default_session instead.\n",
            "\n",
            "WARNING:tensorflow:From /home/jupyterlab/conda/envs/python/lib/python3.7/site-packages/keras/backend/tensorflow_backend.py:175: The name tf.ConfigProto is deprecated. Please use tf.compat.v1.ConfigProto instead.\n",
            "\n",
            "WARNING:tensorflow:From /home/jupyterlab/conda/envs/python/lib/python3.7/site-packages/keras/backend/tensorflow_backend.py:1801: The name tf.nn.fused_batch_norm is deprecated. Please use tf.compat.v1.nn.fused_batch_norm instead.\n",
            "\n",
            "WARNING:tensorflow:From /home/jupyterlab/conda/envs/python/lib/python3.7/site-packages/keras/backend/tensorflow_backend.py:3661: The name tf.nn.max_pool is deprecated. Please use tf.nn.max_pool2d instead.\n",
            "\n"
          ]
        },
        {
          "name": "stderr",
          "output_type": "stream",
          "text": [
            "2024-09-29 15:09:53.788464: I tensorflow/core/platform/cpu_feature_guard.cc:142] Your CPU supports instructions that this TensorFlow binary was not compiled to use: SSE4.1 SSE4.2 AVX AVX2 AVX512F FMA\n",
            "2024-09-29 15:09:53.793356: I tensorflow/core/platform/profile_utils/cpu_utils.cc:94] CPU Frequency: 2394320000 Hz\n",
            "2024-09-29 15:09:53.793937: I tensorflow/compiler/xla/service/service.cc:168] XLA service 0x560ae0d4aee0 executing computations on platform Host. Devices:\n",
            "2024-09-29 15:09:53.793980: I tensorflow/compiler/xla/service/service.cc:175]   StreamExecutor device (0): <undefined>, <undefined>\n",
            "2024-09-29 15:09:53.825658: W tensorflow/compiler/jit/mark_for_compilation_pass.cc:1412] (One-time warning): Not using XLA:CPU for cluster because envvar TF_XLA_FLAGS=--tf_xla_cpu_global_jit was not set.  If you want XLA:CPU, either set that envvar, or use experimental_jit_scope to enable XLA:CPU.  To confirm that XLA is active, pass --vmodule=xla_compilation_cache=1 (as a proper command-line flag, not via TF_XLA_FLAGS) or set the envvar XLA_FLAGS=--xla_hlo_profile.\n"
          ]
        },
        {
          "name": "stdout",
          "output_type": "stream",
          "text": [
            "WARNING:tensorflow:From /home/jupyterlab/conda/envs/python/lib/python3.7/site-packages/keras/backend/tensorflow_backend.py:3665: The name tf.nn.avg_pool is deprecated. Please use tf.nn.avg_pool2d instead.\n",
            "\n"
          ]
        }
      ],
      "source": [
        "model.add(ResNet50(\n",
        "    include_top=False,\n",
        "    pooling='avg',\n",
        "    weights='imagenet',\n",
        "    ))"
      ]
    },
    {
      "cell_type": "code",
      "execution_count": null,
      "metadata": {
        "tags": [],
        "id": "Lku27AD7Lw2c"
      },
      "outputs": [],
      "source": [
        "model.add(Dense(num_classes, activation='softmax'))"
      ]
    },
    {
      "cell_type": "code",
      "execution_count": null,
      "metadata": {
        "tags": [],
        "id": "ylS1jYm1Lw2c",
        "outputId": "598a8aba-f757-42be-b17b-c03015a03421"
      },
      "outputs": [
        {
          "data": {
            "text/plain": [
              "[<keras.engine.training.Model at 0x7f0d45da4cd0>,\n",
              " <keras.layers.core.Dense at 0x7f0d2f81cb10>]"
            ]
          },
          "execution_count": 13,
          "metadata": {},
          "output_type": "execute_result"
        }
      ],
      "source": [
        "model.layers"
      ]
    },
    {
      "cell_type": "code",
      "execution_count": null,
      "metadata": {
        "tags": [],
        "id": "NLzq6rCQLw2d",
        "outputId": "bc861e67-074d-44d9-bef0-626236b82699"
      },
      "outputs": [
        {
          "data": {
            "text/plain": [
              "[<keras.engine.topology.InputLayer at 0x7f0dbf32a950>,\n",
              " <keras.layers.convolutional.ZeroPadding2D at 0x7f0db94c22d0>,\n",
              " <keras.layers.convolutional.Conv2D at 0x7f0db94c2c10>,\n",
              " <keras.layers.normalization.BatchNormalization at 0x7f0db343c850>,\n",
              " <keras.layers.core.Activation at 0x7f0db343ce90>,\n",
              " <keras.layers.pooling.MaxPooling2D at 0x7f0db3434d50>,\n",
              " <keras.layers.convolutional.Conv2D at 0x7f0db89427d0>,\n",
              " <keras.layers.normalization.BatchNormalization at 0x7f0db88ccf90>,\n",
              " <keras.layers.core.Activation at 0x7f0db946ea10>,\n",
              " <keras.layers.convolutional.Conv2D at 0x7f0db88e16d0>,\n",
              " <keras.layers.normalization.BatchNormalization at 0x7f0db884bf90>,\n",
              " <keras.layers.core.Activation at 0x7f0db3434510>,\n",
              " <keras.layers.convolutional.Conv2D at 0x7f0db03eb350>,\n",
              " <keras.layers.convolutional.Conv2D at 0x7f0db02a4d90>,\n",
              " <keras.layers.normalization.BatchNormalization at 0x7f0db0360490>,\n",
              " <keras.layers.normalization.BatchNormalization at 0x7f0db02b80d0>,\n",
              " <keras.layers.merge.Add at 0x7f0db02b8810>,\n",
              " <keras.layers.core.Activation at 0x7f0db0182dd0>,\n",
              " <keras.layers.convolutional.Conv2D at 0x7f0db01828d0>,\n",
              " <keras.layers.normalization.BatchNormalization at 0x7f0db0112650>,\n",
              " <keras.layers.core.Activation at 0x7f0db00fa5d0>,\n",
              " <keras.layers.convolutional.Conv2D at 0x7f0db0098050>,\n",
              " <keras.layers.normalization.BatchNormalization at 0x7f0db0079fd0>,\n",
              " <keras.layers.core.Activation at 0x7f0d987d1c90>,\n",
              " <keras.layers.convolutional.Conv2D at 0x7f0d9876de10>,\n",
              " <keras.layers.normalization.BatchNormalization at 0x7f0d986d3990>,\n",
              " <keras.layers.merge.Add at 0x7f0d986d3fd0>,\n",
              " <keras.layers.core.Activation at 0x7f0d9866bd10>,\n",
              " <keras.layers.convolutional.Conv2D at 0x7f0d9860e890>,\n",
              " <keras.layers.normalization.BatchNormalization at 0x7f0d9857b650>,\n",
              " <keras.layers.core.Activation at 0x7f0d985e45d0>,\n",
              " <keras.layers.convolutional.Conv2D at 0x7f0d98501a90>,\n",
              " <keras.layers.normalization.BatchNormalization at 0x7f0d98479250>,\n",
              " <keras.layers.core.Activation at 0x7f0d98449550>,\n",
              " <keras.layers.convolutional.Conv2D at 0x7f0d98419d50>,\n",
              " <keras.layers.normalization.BatchNormalization at 0x7f0d983a71d0>,\n",
              " <keras.layers.merge.Add at 0x7f0d9837e650>,\n",
              " <keras.layers.core.Activation at 0x7f0d98316f50>,\n",
              " <keras.layers.convolutional.Conv2D at 0x7f0d98316f90>,\n",
              " <keras.layers.normalization.BatchNormalization at 0x7f0d9828e290>,\n",
              " <keras.layers.core.Activation at 0x7f0d9828e050>,\n",
              " <keras.layers.convolutional.Conv2D at 0x7f0d9822ea10>,\n",
              " <keras.layers.normalization.BatchNormalization at 0x7f0d981a7ed0>,\n",
              " <keras.layers.core.Activation at 0x7f0d98141150>,\n",
              " <keras.layers.convolutional.Conv2D at 0x7f0d9811ce10>,\n",
              " <keras.layers.convolutional.Conv2D at 0x7f0d7c7d7c90>,\n",
              " <keras.layers.normalization.BatchNormalization at 0x7f0d980a7190>,\n",
              " <keras.layers.normalization.BatchNormalization at 0x7f0d7c78e350>,\n",
              " <keras.layers.merge.Add at 0x7f0d7c78ec50>,\n",
              " <keras.layers.core.Activation at 0x7f0d7c6ddc90>,\n",
              " <keras.layers.convolutional.Conv2D at 0x7f0d7c6905d0>,\n",
              " <keras.layers.normalization.BatchNormalization at 0x7f0d7c65bfd0>,\n",
              " <keras.layers.core.Activation at 0x7f0d7c65bf50>,\n",
              " <keras.layers.convolutional.Conv2D at 0x7f0d7c596a90>,\n",
              " <keras.layers.normalization.BatchNormalization at 0x7f0d7c569490>,\n",
              " <keras.layers.core.Activation at 0x7f0d7c569750>,\n",
              " <keras.layers.convolutional.Conv2D at 0x7f0d7c487890>,\n",
              " <keras.layers.normalization.BatchNormalization at 0x7f0d7c3ffed0>,\n",
              " <keras.layers.merge.Add at 0x7f0d7c3cf450>,\n",
              " <keras.layers.core.Activation at 0x7f0d7c3a0e10>,\n",
              " <keras.layers.convolutional.Conv2D at 0x7f0d7c6dddd0>,\n",
              " <keras.layers.normalization.BatchNormalization at 0x7f0d7c305f50>,\n",
              " <keras.layers.core.Activation at 0x7f0d7c305cd0>,\n",
              " <keras.layers.convolutional.Conv2D at 0x7f0d7c29dad0>,\n",
              " <keras.layers.normalization.BatchNormalization at 0x7f0d7c214ed0>,\n",
              " <keras.layers.core.Activation at 0x7f0d7c214110>,\n",
              " <keras.layers.convolutional.Conv2D at 0x7f0d7c1b3650>,\n",
              " <keras.layers.normalization.BatchNormalization at 0x7f0d7c12cf10>,\n",
              " <keras.layers.merge.Add at 0x7f0d7c0c9210>,\n",
              " <keras.layers.core.Activation at 0x7f0d7c04ebd0>,\n",
              " <keras.layers.convolutional.Conv2D at 0x7f0d58798210>,\n",
              " <keras.layers.normalization.BatchNormalization at 0x7f0d58788b10>,\n",
              " <keras.layers.core.Activation at 0x7f0d587f0110>,\n",
              " <keras.layers.convolutional.Conv2D at 0x7f0d58708f10>,\n",
              " <keras.layers.normalization.BatchNormalization at 0x7f0d586811d0>,\n",
              " <keras.layers.core.Activation at 0x7f0d58681290>,\n",
              " <keras.layers.convolutional.Conv2D at 0x7f0d5861e990>,\n",
              " <keras.layers.normalization.BatchNormalization at 0x7f0d58565e90>,\n",
              " <keras.layers.merge.Add at 0x7f0d58581b10>,\n",
              " <keras.layers.core.Activation at 0x7f0d585373d0>,\n",
              " <keras.layers.convolutional.Conv2D at 0x7f0d58537410>,\n",
              " <keras.layers.normalization.BatchNormalization at 0x7f0d5849afd0>,\n",
              " <keras.layers.core.Activation at 0x7f0d5849a510>,\n",
              " <keras.layers.convolutional.Conv2D at 0x7f0d58434e90>,\n",
              " <keras.layers.normalization.BatchNormalization at 0x7f0d583ad150>,\n",
              " <keras.layers.core.Activation at 0x7f0d583ad210>,\n",
              " <keras.layers.convolutional.Conv2D at 0x7f0d582c8990>,\n",
              " <keras.layers.convolutional.Conv2D at 0x7f0d582afc10>,\n",
              " <keras.layers.normalization.BatchNormalization at 0x7f0d582aff50>,\n",
              " <keras.layers.normalization.BatchNormalization at 0x7f0d5817fa50>,\n",
              " <keras.layers.merge.Add at 0x7f0d5817f650>,\n",
              " <keras.layers.core.Activation at 0x7f0d580e8dd0>,\n",
              " <keras.layers.convolutional.Conv2D at 0x7f0d580e88d0>,\n",
              " <keras.layers.normalization.BatchNormalization at 0x7f0d5805f050>,\n",
              " <keras.layers.core.Activation at 0x7f0d5805f990>,\n",
              " <keras.layers.convolutional.Conv2D at 0x7f0d4775ef50>,\n",
              " <keras.layers.normalization.BatchNormalization at 0x7f0d476bf690>,\n",
              " <keras.layers.core.Activation at 0x7f0d476bf850>,\n",
              " <keras.layers.convolutional.Conv2D at 0x7f0d47658d90>,\n",
              " <keras.layers.normalization.BatchNormalization at 0x7f0d475c1dd0>,\n",
              " <keras.layers.merge.Add at 0x7f0d475c1fd0>,\n",
              " <keras.layers.core.Activation at 0x7f0d47570410>,\n",
              " <keras.layers.convolutional.Conv2D at 0x7f0d474b6210>,\n",
              " <keras.layers.normalization.BatchNormalization at 0x7f0d474d3cd0>,\n",
              " <keras.layers.core.Activation at 0x7f0d474e6e50>,\n",
              " <keras.layers.convolutional.Conv2D at 0x7f0d47408490>,\n",
              " <keras.layers.normalization.BatchNormalization at 0x7f0d4737ff10>,\n",
              " <keras.layers.core.Activation at 0x7f0d4739b210>,\n",
              " <keras.layers.convolutional.Conv2D at 0x7f0d47320c90>,\n",
              " <keras.layers.normalization.BatchNormalization at 0x7f0d472bc390>,\n",
              " <keras.layers.merge.Add at 0x7f0d47283110>,\n",
              " <keras.layers.core.Activation at 0x7f0d4721ad50>,\n",
              " <keras.layers.convolutional.Conv2D at 0x7f0d4721a910>,\n",
              " <keras.layers.normalization.BatchNormalization at 0x7f0d4719b050>,\n",
              " <keras.layers.core.Activation at 0x7f0d4719b750>,\n",
              " <keras.layers.convolutional.Conv2D at 0x7f0d47133e50>,\n",
              " <keras.layers.normalization.BatchNormalization at 0x7f0d470ad210>,\n",
              " <keras.layers.core.Activation at 0x7f0d470ad3d0>,\n",
              " <keras.layers.convolutional.Conv2D at 0x7f0d46fc7b90>,\n",
              " <keras.layers.normalization.BatchNormalization at 0x7f0d46f40e90>,\n",
              " <keras.layers.merge.Add at 0x7f0d46f66ed0>,\n",
              " <keras.layers.core.Activation at 0x7f0d46ee1cd0>,\n",
              " <keras.layers.convolutional.Conv2D at 0x7f0d470d6910>,\n",
              " <keras.layers.normalization.BatchNormalization at 0x7f0d46e45150>,\n",
              " <keras.layers.core.Activation at 0x7f0d46e45550>,\n",
              " <keras.layers.convolutional.Conv2D at 0x7f0d46df9110>,\n",
              " <keras.layers.normalization.BatchNormalization at 0x7f0d46d59ad0>,\n",
              " <keras.layers.core.Activation at 0x7f0d46d59410>,\n",
              " <keras.layers.convolutional.Conv2D at 0x7f0d46cf76d0>,\n",
              " <keras.layers.normalization.BatchNormalization at 0x7f0d46c713d0>,\n",
              " <keras.layers.merge.Add at 0x7f0d46c711d0>,\n",
              " <keras.layers.core.Activation at 0x7f0d46b8b6d0>,\n",
              " <keras.layers.convolutional.Conv2D at 0x7f0d46bafe10>,\n",
              " <keras.layers.normalization.BatchNormalization at 0x7f0d46b06f10>,\n",
              " <keras.layers.core.Activation at 0x7f0d46b06e50>,\n",
              " <keras.layers.convolutional.Conv2D at 0x7f0d46aa0e50>,\n",
              " <keras.layers.normalization.BatchNormalization at 0x7f0d46a0ba90>,\n",
              " <keras.layers.core.Activation at 0x7f0d46a0be90>,\n",
              " <keras.layers.convolutional.Conv2D at 0x7f0d469b7890>,\n",
              " <keras.layers.normalization.BatchNormalization at 0x7f0d4691ba90>,\n",
              " <keras.layers.merge.Add at 0x7f0d468b7fd0>,\n",
              " <keras.layers.core.Activation at 0x7f0d4688d910>,\n",
              " <keras.layers.convolutional.Conv2D at 0x7f0d467d7190>,\n",
              " <keras.layers.normalization.BatchNormalization at 0x7f0d468313d0>,\n",
              " <keras.layers.core.Activation at 0x7f0d46831790>,\n",
              " <keras.layers.convolutional.Conv2D at 0x7f0d4676cc90>,\n",
              " <keras.layers.normalization.BatchNormalization at 0x7f0d46685450>,\n",
              " <keras.layers.core.Activation at 0x7f0d466ce590>,\n",
              " <keras.layers.convolutional.Conv2D at 0x7f0d46665e90>,\n",
              " <keras.layers.convolutional.Conv2D at 0x7f0d4657a610>,\n",
              " <keras.layers.normalization.BatchNormalization at 0x7f0d465d1f50>,\n",
              " <keras.layers.normalization.BatchNormalization at 0x7f0d4651cb50>,\n",
              " <keras.layers.merge.Add at 0x7f0d465340d0>,\n",
              " <keras.layers.core.Activation at 0x7f0d463ffd50>,\n",
              " <keras.layers.convolutional.Conv2D at 0x7f0d46434850>,\n",
              " <keras.layers.normalization.BatchNormalization at 0x7f0d463feb10>,\n",
              " <keras.layers.core.Activation at 0x7f0d463fe690>,\n",
              " <keras.layers.convolutional.Conv2D at 0x7f0d4632d410>,\n",
              " <keras.layers.normalization.BatchNormalization at 0x7f0d462489d0>,\n",
              " <keras.layers.core.Activation at 0x7f0d46290a50>,\n",
              " <keras.layers.convolutional.Conv2D at 0x7f0d461c6bd0>,\n",
              " <keras.layers.normalization.BatchNormalization at 0x7f0d461a6410>,\n",
              " <keras.layers.merge.Add at 0x7f0d461a6f90>,\n",
              " <keras.layers.core.Activation at 0x7f0d460bf790>,\n",
              " <keras.layers.convolutional.Conv2D at 0x7f0d460bf850>,\n",
              " <keras.layers.normalization.BatchNormalization at 0x7f0d460be650>,\n",
              " <keras.layers.core.Activation at 0x7f0d460beb50>,\n",
              " <keras.layers.convolutional.Conv2D at 0x7f0d45fda990>,\n",
              " <keras.layers.normalization.BatchNormalization at 0x7f0d45f52d50>,\n",
              " <keras.layers.core.Activation at 0x7f0d45f52090>,\n",
              " <keras.layers.convolutional.Conv2D at 0x7f0d45ef0350>,\n",
              " <keras.layers.normalization.BatchNormalization at 0x7f0d45e53f10>,\n",
              " <keras.layers.merge.Add at 0x7f0d45df38d0>,\n",
              " <keras.layers.core.Activation at 0x7f0d45d89a50>,\n",
              " <keras.layers.pooling.AveragePooling2D at 0x7f0d460bfcd0>,\n",
              " <keras.layers.pooling.GlobalAveragePooling2D at 0x7f0d7c3a04d0>]"
            ]
          },
          "execution_count": 14,
          "metadata": {},
          "output_type": "execute_result"
        }
      ],
      "source": [
        "model.layers[0].layers"
      ]
    },
    {
      "cell_type": "code",
      "execution_count": null,
      "metadata": {
        "tags": [],
        "id": "BfO5Gx5tLw2d"
      },
      "outputs": [],
      "source": [
        "model.layers[0].trainable = False"
      ]
    },
    {
      "cell_type": "code",
      "execution_count": null,
      "metadata": {
        "tags": [],
        "id": "CW0VQmYALw2d",
        "outputId": "5f2dfffd-5f13-421a-e246-7403d1d96863"
      },
      "outputs": [
        {
          "name": "stdout",
          "output_type": "stream",
          "text": [
            "_________________________________________________________________\n",
            "Layer (type)                 Output Shape              Param #   \n",
            "=================================================================\n",
            "resnet50 (Model)             (None, 2048)              23587712  \n",
            "_________________________________________________________________\n",
            "dense_1 (Dense)              (None, 2)                 4098      \n",
            "=================================================================\n",
            "Total params: 23,591,810\n",
            "Trainable params: 4,098\n",
            "Non-trainable params: 23,587,712\n",
            "_________________________________________________________________\n"
          ]
        }
      ],
      "source": [
        "model.summary()"
      ]
    },
    {
      "cell_type": "code",
      "execution_count": null,
      "metadata": {
        "tags": [],
        "id": "JkoglVsiLw2e",
        "outputId": "ee3956e5-b8cc-409e-eccb-cca2216efb90"
      },
      "outputs": [
        {
          "name": "stdout",
          "output_type": "stream",
          "text": [
            "WARNING:tensorflow:From /home/jupyterlab/conda/envs/python/lib/python3.7/site-packages/keras/optimizers.py:757: The name tf.train.Optimizer is deprecated. Please use tf.compat.v1.train.Optimizer instead.\n",
            "\n"
          ]
        }
      ],
      "source": [
        "model.compile(optimizer='adam', loss='categorical_crossentropy', metrics=['accuracy'])"
      ]
    },
    {
      "cell_type": "code",
      "execution_count": null,
      "metadata": {
        "tags": [],
        "id": "yLdKruzMLw2e"
      },
      "outputs": [],
      "source": [
        "steps_per_epoch_training = len(train_generator)\n",
        "steps_per_epoch_validation = len(val_generator)\n",
        "num_epochs = 1"
      ]
    },
    {
      "cell_type": "code",
      "execution_count": null,
      "metadata": {
        "tags": [],
        "id": "9JOC-TlELw2e",
        "outputId": "dc776915-272b-4eec-823e-e5ee24730015"
      },
      "outputs": [
        {
          "name": "stdout",
          "output_type": "stream",
          "text": [
            "WARNING:tensorflow:From /home/jupyterlab/conda/envs/python/lib/python3.7/site-packages/tensorflow/python/ops/math_grad.py:1250: add_dispatch_support.<locals>.wrapper (from tensorflow.python.ops.array_ops) is deprecated and will be removed in a future version.\n",
            "Instructions for updating:\n",
            "Use tf.where in 2.0, which has the same broadcast rule as np.where\n",
            "Epoch 1/1\n",
            " 40/101 [==========>...................] - ETA: 1:16:03 - loss: 0.1329 - acc: 0.9570"
          ]
        }
      ],
      "source": [
        "fit_history = model.fit_generator(\n",
        "    train_generator,\n",
        "    steps_per_epoch=steps_per_epoch_training,\n",
        "    epochs=num_epochs,\n",
        "    validation_data=val_generator,\n",
        "    validation_steps=steps_per_epoch_validation,\n",
        "    verbose=1,\n",
        ")"
      ]
    },
    {
      "cell_type": "code",
      "execution_count": null,
      "metadata": {
        "tags": [],
        "id": "KOq70NctLw2f"
      },
      "outputs": [],
      "source": [
        "model.save('classifier_resnet50_model_concrete_dataset.h5')"
      ]
    }
  ],
  "metadata": {
    "kernelspec": {
      "display_name": "Python",
      "language": "python",
      "name": "conda-env-python-py"
    },
    "language_info": {
      "codemirror_mode": {
        "name": "ipython",
        "version": 3
      },
      "file_extension": ".py",
      "mimetype": "text/x-python",
      "name": "python",
      "nbconvert_exporter": "python",
      "pygments_lexer": "ipython3",
      "version": "3.7.12"
    },
    "prev_pub_hash": "cf2970a1d2c549fe86023eaa076d0ce4936c4275baf2cccfdad8fe6ce3a8a6c2",
    "colab": {
      "provenance": []
    }
  },
  "nbformat": 4,
  "nbformat_minor": 0
}