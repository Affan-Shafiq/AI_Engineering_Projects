{
  "cells": [
    {
      "cell_type": "markdown",
      "metadata": {
        "id": "w09BVpyFUV8C"
      },
      "source": [
        "# Classifying MNIST Database Using Convolutional Neural Networks with Keras"
      ]
    },
    {
      "cell_type": "markdown",
      "metadata": {
        "id": "BaSxaaSXUV8K"
      },
      "source": [
        "## Import Keras and Packages\n"
      ]
    },
    {
      "cell_type": "code",
      "execution_count": 9,
      "metadata": {
        "colab": {
          "base_uri": "https://localhost:8080/"
        },
        "id": "xmLTdkUmUV8M",
        "outputId": "cbf64bad-7dd6-4823-9404-027def47632e"
      },
      "outputs": [
        {
          "output_type": "stream",
          "name": "stdout",
          "text": [
            "Requirement already satisfied: keras==3.4.1 in /usr/local/lib/python3.10/dist-packages (3.4.1)\n",
            "Requirement already satisfied: absl-py in /usr/local/lib/python3.10/dist-packages (from keras==3.4.1) (1.4.0)\n",
            "Requirement already satisfied: numpy in /usr/local/lib/python3.10/dist-packages (from keras==3.4.1) (1.26.4)\n",
            "Requirement already satisfied: rich in /usr/local/lib/python3.10/dist-packages (from keras==3.4.1) (13.9.2)\n",
            "Requirement already satisfied: namex in /usr/local/lib/python3.10/dist-packages (from keras==3.4.1) (0.0.8)\n",
            "Requirement already satisfied: h5py in /usr/local/lib/python3.10/dist-packages (from keras==3.4.1) (3.11.0)\n",
            "Requirement already satisfied: optree in /usr/local/lib/python3.10/dist-packages (from keras==3.4.1) (0.13.0)\n",
            "Requirement already satisfied: ml-dtypes in /usr/local/lib/python3.10/dist-packages (from keras==3.4.1) (0.4.1)\n",
            "Requirement already satisfied: packaging in /usr/local/lib/python3.10/dist-packages (from keras==3.4.1) (24.1)\n",
            "Requirement already satisfied: typing-extensions>=4.5.0 in /usr/local/lib/python3.10/dist-packages (from optree->keras==3.4.1) (4.12.2)\n",
            "Requirement already satisfied: markdown-it-py>=2.2.0 in /usr/local/lib/python3.10/dist-packages (from rich->keras==3.4.1) (3.0.0)\n",
            "Requirement already satisfied: pygments<3.0.0,>=2.13.0 in /usr/local/lib/python3.10/dist-packages (from rich->keras==3.4.1) (2.18.0)\n",
            "Requirement already satisfied: mdurl~=0.1 in /usr/local/lib/python3.10/dist-packages (from markdown-it-py>=2.2.0->rich->keras==3.4.1) (0.1.2)\n"
          ]
        }
      ],
      "source": [
        "#!pip install numpy==1.21.4\n",
        "#!pip install pandas==1.3.4\n",
        "!pip install keras==3.4.1"
      ]
    },
    {
      "cell_type": "code",
      "execution_count": 10,
      "metadata": {
        "tags": [],
        "id": "TwiPKejjUV8O"
      },
      "outputs": [],
      "source": [
        "import keras\n",
        "from keras.models import Sequential\n",
        "from keras.layers import Dense\n",
        "from keras.utils import to_categorical"
      ]
    },
    {
      "cell_type": "code",
      "execution_count": 11,
      "metadata": {
        "tags": [],
        "id": "cwgFppebUV8P"
      },
      "outputs": [],
      "source": [
        "from keras.layers import Conv2D # to add convolutional layers\n",
        "from keras.layers import MaxPooling2D # to add pooling layers\n",
        "from keras.layers import Flatten # to flatten data for fully connected layers"
      ]
    },
    {
      "cell_type": "markdown",
      "metadata": {
        "id": "wjG7jMNXUV8Q"
      },
      "source": [
        "## Convolutional Layer with One set of convolutional and pooling layers\n"
      ]
    },
    {
      "cell_type": "code",
      "execution_count": 12,
      "metadata": {
        "tags": [],
        "id": "SvX_Kwm2UV8Q"
      },
      "outputs": [],
      "source": [
        "# import data\n",
        "from keras.datasets import mnist\n",
        "\n",
        "# load data\n",
        "(X_train, y_train), (X_test, y_test) = mnist.load_data()\n",
        "\n",
        "# reshape to be [samples][pixels][width][height]\n",
        "X_train = X_train.reshape(X_train.shape[0], 28, 28, 1).astype('float32')\n",
        "X_test = X_test.reshape(X_test.shape[0], 28, 28, 1).astype('float32')"
      ]
    },
    {
      "cell_type": "code",
      "execution_count": 13,
      "metadata": {
        "tags": [],
        "id": "KPLiKJzRUV8R"
      },
      "outputs": [],
      "source": [
        "X_train = X_train / 255 # normalize training data\n",
        "X_test = X_test / 255 # normalize test data"
      ]
    },
    {
      "cell_type": "code",
      "execution_count": 14,
      "metadata": {
        "tags": [],
        "id": "TUjvjDMBUV8R"
      },
      "outputs": [],
      "source": [
        "y_train = to_categorical(y_train)\n",
        "y_test = to_categorical(y_test)\n",
        "\n",
        "num_classes = y_test.shape[1] # number of categories"
      ]
    },
    {
      "cell_type": "code",
      "execution_count": 15,
      "metadata": {
        "tags": [],
        "id": "1NsFC_FkUV8S"
      },
      "outputs": [],
      "source": [
        "def convolutional_model():\n",
        "\n",
        "    # create model\n",
        "    model = Sequential()\n",
        "    model.add(Conv2D(16, (5, 5), strides=(1, 1), activation='relu', input_shape=(28, 28, 1)))\n",
        "    model.add(MaxPooling2D(pool_size=(2, 2), strides=(2, 2)))\n",
        "\n",
        "    model.add(Flatten())\n",
        "    model.add(Dense(100, activation='relu'))\n",
        "    model.add(Dense(num_classes, activation='softmax'))\n",
        "\n",
        "    # compile model\n",
        "    model.compile(optimizer='adam', loss='categorical_crossentropy',  metrics=['accuracy'])\n",
        "    return model"
      ]
    },
    {
      "cell_type": "markdown",
      "metadata": {
        "id": "ny7hgB-zUV8S"
      },
      "source": [
        "Finally, let's call the function to create the model, and then let's train it and evaluate it.\n"
      ]
    },
    {
      "cell_type": "code",
      "execution_count": 16,
      "metadata": {
        "tags": [],
        "colab": {
          "base_uri": "https://localhost:8080/"
        },
        "id": "BXsrN2BLUV8S",
        "outputId": "81b0f9b8-659f-454d-fafc-d8e87100bd6d"
      },
      "outputs": [
        {
          "metadata": {
            "tags": null
          },
          "name": "stderr",
          "output_type": "stream",
          "text": [
            "/usr/local/lib/python3.10/dist-packages/keras/src/layers/convolutional/base_conv.py:107: UserWarning: Do not pass an `input_shape`/`input_dim` argument to a layer. When using Sequential models, prefer using an `Input(shape)` object as the first layer in the model instead.\n",
            "  super().__init__(activity_regularizer=activity_regularizer, **kwargs)\n"
          ]
        },
        {
          "output_type": "stream",
          "name": "stdout",
          "text": [
            "Epoch 1/10\n",
            "300/300 - 26s - 88ms/step - accuracy: 0.9153 - loss: 0.2999 - val_accuracy: 0.9662 - val_loss: 0.1142\n",
            "Epoch 2/10\n",
            "300/300 - 23s - 77ms/step - accuracy: 0.9757 - loss: 0.0862 - val_accuracy: 0.9788 - val_loss: 0.0653\n",
            "Epoch 3/10\n",
            "300/300 - 40s - 134ms/step - accuracy: 0.9833 - loss: 0.0580 - val_accuracy: 0.9845 - val_loss: 0.0499\n",
            "Epoch 4/10\n",
            "300/300 - 21s - 69ms/step - accuracy: 0.9859 - loss: 0.0456 - val_accuracy: 0.9869 - val_loss: 0.0423\n",
            "Epoch 5/10\n",
            "300/300 - 22s - 73ms/step - accuracy: 0.9892 - loss: 0.0368 - val_accuracy: 0.9864 - val_loss: 0.0414\n",
            "Epoch 6/10\n",
            "300/300 - 40s - 135ms/step - accuracy: 0.9911 - loss: 0.0302 - val_accuracy: 0.9866 - val_loss: 0.0397\n",
            "Epoch 7/10\n",
            "300/300 - 40s - 134ms/step - accuracy: 0.9928 - loss: 0.0250 - val_accuracy: 0.9869 - val_loss: 0.0386\n",
            "Epoch 8/10\n",
            "300/300 - 22s - 73ms/step - accuracy: 0.9931 - loss: 0.0224 - val_accuracy: 0.9866 - val_loss: 0.0388\n",
            "Epoch 9/10\n",
            "300/300 - 20s - 68ms/step - accuracy: 0.9948 - loss: 0.0180 - val_accuracy: 0.9876 - val_loss: 0.0378\n",
            "Epoch 10/10\n",
            "300/300 - 24s - 79ms/step - accuracy: 0.9953 - loss: 0.0154 - val_accuracy: 0.9871 - val_loss: 0.0391\n",
            "Accuracy: 0.9871000051498413 \n",
            " Error: 1.2899994850158691\n"
          ]
        }
      ],
      "source": [
        "# build the model\n",
        "model = convolutional_model()\n",
        "\n",
        "# fit the model\n",
        "model.fit(X_train, y_train, validation_data=(X_test, y_test), epochs=10, batch_size=200, verbose=2)\n",
        "\n",
        "# evaluate the model\n",
        "scores = model.evaluate(X_test, y_test, verbose=0)\n",
        "print(\"Accuracy: {} \\n Error: {}\".format(scores[1], 100-scores[1]*100))"
      ]
    },
    {
      "cell_type": "markdown",
      "metadata": {
        "id": "OAMGeKEpUV8T"
      },
      "source": [
        "## Convolutional Layer with Multiple sets of convolutional and pooling layers\n"
      ]
    },
    {
      "cell_type": "code",
      "execution_count": 17,
      "metadata": {
        "tags": [],
        "id": "fFurYUvmUV8T"
      },
      "outputs": [],
      "source": [
        "def convolutional_model():\n",
        "\n",
        "    # create model\n",
        "    model = Sequential()\n",
        "    model.add(Conv2D(16, (5, 5), activation='relu', input_shape=(28, 28, 1)))\n",
        "    model.add(MaxPooling2D(pool_size=(2, 2), strides=(2, 2)))\n",
        "    model.add(Dense(100, activation='relu'))\n",
        "\n",
        "    model.add(Conv2D(8, (2, 2), activation='relu'))\n",
        "    model.add(MaxPooling2D(pool_size=(2, 2), strides=(2, 2)))\n",
        "\n",
        "    model.add(Dense(200, activation='relu'))\n",
        "    model.add(Conv2D(8, (2, 2), activation='relu'))\n",
        "    model.add(MaxPooling2D(pool_size=(2, 2), strides=(2, 2)))\n",
        "\n",
        "    model.add(Flatten())\n",
        "    model.add(Dense(300, activation='relu'))\n",
        "    model.add(Dense(num_classes, activation='softmax'))\n",
        "\n",
        "    # Compile model\n",
        "    model.compile(optimizer='adam', loss='categorical_crossentropy',  metrics=['accuracy'])\n",
        "    return model"
      ]
    },
    {
      "cell_type": "markdown",
      "metadata": {
        "id": "dcwUYO8GUV8T"
      },
      "source": [
        "Now, let's call the function to create our new convolutional neural network, and then let's train it and evaluate it.\n"
      ]
    },
    {
      "cell_type": "code",
      "execution_count": 20,
      "metadata": {
        "tags": [],
        "colab": {
          "base_uri": "https://localhost:8080/"
        },
        "id": "7-mTsoP7UV8U",
        "outputId": "710ffb98-4567-4e9f-8380-a62459d33273"
      },
      "outputs": [
        {
          "output_type": "stream",
          "name": "stdout",
          "text": [
            "Epoch 1/10\n",
            "300/300 - 64s - 212ms/step - accuracy: 0.8235 - loss: 0.5410 - val_accuracy: 0.9488 - val_loss: 0.1654\n",
            "Epoch 2/10\n",
            "300/300 - 60s - 198ms/step - accuracy: 0.9574 - loss: 0.1366 - val_accuracy: 0.9680 - val_loss: 0.1004\n",
            "Epoch 3/10\n",
            "300/300 - 80s - 267ms/step - accuracy: 0.9693 - loss: 0.0991 - val_accuracy: 0.9730 - val_loss: 0.0838\n",
            "Epoch 4/10\n",
            "300/300 - 81s - 271ms/step - accuracy: 0.9737 - loss: 0.0819 - val_accuracy: 0.9805 - val_loss: 0.0642\n",
            "Epoch 5/10\n",
            "300/300 - 82s - 273ms/step - accuracy: 0.9773 - loss: 0.0735 - val_accuracy: 0.9800 - val_loss: 0.0607\n",
            "Epoch 6/10\n",
            "300/300 - 81s - 271ms/step - accuracy: 0.9804 - loss: 0.0614 - val_accuracy: 0.9829 - val_loss: 0.0521\n",
            "Epoch 7/10\n",
            "300/300 - 83s - 278ms/step - accuracy: 0.9825 - loss: 0.0552 - val_accuracy: 0.9848 - val_loss: 0.0507\n",
            "Epoch 8/10\n",
            "300/300 - 81s - 271ms/step - accuracy: 0.9837 - loss: 0.0508 - val_accuracy: 0.9848 - val_loss: 0.0491\n",
            "Epoch 9/10\n",
            "300/300 - 78s - 260ms/step - accuracy: 0.9850 - loss: 0.0467 - val_accuracy: 0.9850 - val_loss: 0.0484\n",
            "Epoch 10/10\n",
            "300/300 - 56s - 187ms/step - accuracy: 0.9854 - loss: 0.0448 - val_accuracy: 0.9861 - val_loss: 0.0404\n",
            "Accuracy: 0.9861000180244446 \n",
            " Error: 1.389998197555542\n"
          ]
        }
      ],
      "source": [
        "# build the model\n",
        "model = convolutional_model()\n",
        "\n",
        "# fit the model\n",
        "model.fit(X_train, y_train, validation_data=(X_test, y_test), epochs=10, batch_size=200, verbose=2)\n",
        "\n",
        "# evaluate the model\n",
        "scores = model.evaluate(X_test, y_test, verbose=0)\n",
        "print(\"Accuracy: {} \\n Error: {}\".format(scores[1], 100-scores[1]*100))"
      ]
    }
  ],
  "metadata": {
    "kernelspec": {
      "display_name": "Python",
      "language": "python",
      "name": "conda-env-python-py"
    },
    "language_info": {
      "codemirror_mode": {
        "name": "ipython",
        "version": 3
      },
      "file_extension": ".py",
      "mimetype": "text/x-python",
      "name": "python",
      "nbconvert_exporter": "python",
      "pygments_lexer": "ipython3",
      "version": "3.7.12"
    },
    "colab": {
      "provenance": []
    }
  },
  "nbformat": 4,
  "nbformat_minor": 0
}