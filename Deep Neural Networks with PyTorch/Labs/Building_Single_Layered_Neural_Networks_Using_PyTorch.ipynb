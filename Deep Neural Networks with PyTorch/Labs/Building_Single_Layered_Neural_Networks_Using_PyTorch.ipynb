{
  "cells": [
    {
      "cell_type": "markdown",
      "metadata": {
        "id": "zkAKvANRgphT"
      },
      "source": [
        "# Building a Single Layered Neural Networks Using PyTorch"
      ]
    },
    {
      "cell_type": "markdown",
      "metadata": {
        "id": "_2fUnnrGgphV"
      },
      "source": [
        "<h2>Preparation</h2>\n"
      ]
    },
    {
      "cell_type": "code",
      "execution_count": 1,
      "metadata": {
        "tags": [],
        "id": "GPw5KgLegphV"
      },
      "outputs": [],
      "source": [
        "# Import the libraries we need for this lab\n",
        "\n",
        "# Using the following line code to install the torchvision library\n",
        "# !mamba install -y torchvision\n",
        "\n",
        "import torch\n",
        "import torch.nn as nn\n",
        "import torchvision.transforms as transforms\n",
        "import torchvision.datasets as dsets\n",
        "import torch.nn.functional as F\n",
        "import matplotlib.pylab as plt\n",
        "import numpy as np"
      ]
    },
    {
      "cell_type": "markdown",
      "metadata": {
        "id": "j70ckCQwgphW"
      },
      "source": [
        "Plotting Functions"
      ]
    },
    {
      "cell_type": "code",
      "execution_count": 2,
      "metadata": {
        "tags": [],
        "id": "6roLzyv0gphX"
      },
      "outputs": [],
      "source": [
        "# Define a function to plot accuracy and loss\n",
        "\n",
        "def plot_accuracy_loss(training_results):\n",
        "    plt.subplot(2, 1, 1)\n",
        "    plt.plot(training_results['training_loss'], 'r')\n",
        "    plt.ylabel('loss')\n",
        "    plt.title('training loss iterations')\n",
        "    plt.subplot(2, 1, 2)\n",
        "    plt.plot(training_results['validation_accuracy'])\n",
        "    plt.ylabel('accuracy')\n",
        "    plt.xlabel('epochs')\n",
        "    plt.show()"
      ]
    },
    {
      "cell_type": "code",
      "execution_count": 3,
      "metadata": {
        "tags": [],
        "id": "k-X0nXqMgphX"
      },
      "outputs": [],
      "source": [
        "# Define a function to plot model parameters\n",
        "\n",
        "def print_model_parameters(model):\n",
        "    count = 0\n",
        "    for ele in model.state_dict():\n",
        "        count += 1\n",
        "        if count % 2 != 0:\n",
        "            print (\"The following are the parameters for the layer \", count // 2 + 1)\n",
        "        if ele.find(\"bias\") != -1:\n",
        "            print(\"The size of bias: \", model.state_dict()[ele].size())\n",
        "        else:\n",
        "            print(\"The size of weights: \", model.state_dict()[ele].size())"
      ]
    },
    {
      "cell_type": "code",
      "execution_count": 4,
      "metadata": {
        "tags": [],
        "id": "tE3_ombegphY"
      },
      "outputs": [],
      "source": [
        "# Define a function to display data\n",
        "\n",
        "def show_data(data_sample):\n",
        "    plt.imshow(data_sample.numpy().reshape(28, 28), cmap='gray')\n",
        "    plt.show()"
      ]
    },
    {
      "cell_type": "markdown",
      "metadata": {
        "id": "9X0LjnCOgphY"
      },
      "source": [
        "<h2 id=\"Model\">Neural Network Module and Training Function</h2>\n"
      ]
    },
    {
      "cell_type": "code",
      "execution_count": 5,
      "metadata": {
        "tags": [],
        "id": "-sRYn2eCgphZ"
      },
      "outputs": [],
      "source": [
        "# Define a Neural Network class\n",
        "\n",
        "class Net(nn.Module):\n",
        "\n",
        "    # Constructor\n",
        "    def __init__(self, D_in, H, D_out):\n",
        "        super(Net, self).__init__()\n",
        "        self.linear1 = nn.Linear(D_in, H)\n",
        "        self.linear2 = nn.Linear(H, D_out)\n",
        "\n",
        "    # Prediction\n",
        "    def forward(self, x):\n",
        "        x = torch.sigmoid(self.linear1(x))\n",
        "        x = self.linear2(x)\n",
        "        return x"
      ]
    },
    {
      "cell_type": "code",
      "execution_count": 6,
      "metadata": {
        "tags": [],
        "id": "OlhGpVSigphZ"
      },
      "outputs": [],
      "source": [
        "# Define a training function to train the model\n",
        "\n",
        "def train(model, criterion, train_loader, validation_loader, optimizer, epochs=100):\n",
        "    useful_stuff = {'training_loss': [], 'validation_accuracy': []}\n",
        "    for epoch in range(epochs):\n",
        "        for x, y in train_loader:\n",
        "            optimizer.zero_grad()\n",
        "            z = model(x.view(-1, 28 * 28))\n",
        "            loss = criterion(z, y)\n",
        "            loss.backward()\n",
        "            optimizer.step()\n",
        "            #loss for every iteration\n",
        "            useful_stuff['training_loss'].append(loss.data.item())\n",
        "        correct = 0\n",
        "        for x, y in validation_loader:\n",
        "            #validation\n",
        "            z = model(x.view(-1, 28 * 28))\n",
        "            _, label = torch.max(z, 1)\n",
        "            correct += (label == y).sum().item()\n",
        "        accuracy = 100 * (correct / len(validation_dataset))\n",
        "        useful_stuff['validation_accuracy'].append(accuracy)\n",
        "    return useful_stuff"
      ]
    },
    {
      "cell_type": "markdown",
      "metadata": {
        "id": "VKe8ACy1gphZ"
      },
      "source": [
        "<!--Empty Space for separating topics-->\n"
      ]
    },
    {
      "cell_type": "markdown",
      "metadata": {
        "id": "JMsXhd1Cgpha"
      },
      "source": [
        "<h2 id=\"Makeup_Data\">Make Some Data</h2>\n"
      ]
    },
    {
      "cell_type": "code",
      "execution_count": 7,
      "metadata": {
        "tags": [],
        "colab": {
          "base_uri": "https://localhost:8080/"
        },
        "id": "WEse02o9gpha",
        "outputId": "32d20f68-4a0f-40b4-ca8a-6c3d38a1209c"
      },
      "outputs": [
        {
          "output_type": "stream",
          "name": "stdout",
          "text": [
            "Downloading http://yann.lecun.com/exdb/mnist/train-images-idx3-ubyte.gz\n",
            "Failed to download (trying next):\n",
            "<urlopen error [SSL: CERTIFICATE_VERIFY_FAILED] certificate verify failed: certificate has expired (_ssl.c:1007)>\n",
            "\n",
            "Downloading https://ossci-datasets.s3.amazonaws.com/mnist/train-images-idx3-ubyte.gz\n",
            "Downloading https://ossci-datasets.s3.amazonaws.com/mnist/train-images-idx3-ubyte.gz to ./data/MNIST/raw/train-images-idx3-ubyte.gz\n"
          ]
        },
        {
          "output_type": "stream",
          "name": "stderr",
          "text": [
            "100%|██████████| 9912422/9912422 [00:00<00:00, 38570384.06it/s]\n"
          ]
        },
        {
          "output_type": "stream",
          "name": "stdout",
          "text": [
            "Extracting ./data/MNIST/raw/train-images-idx3-ubyte.gz to ./data/MNIST/raw\n",
            "\n",
            "Downloading http://yann.lecun.com/exdb/mnist/train-labels-idx1-ubyte.gz\n",
            "Failed to download (trying next):\n",
            "<urlopen error [SSL: CERTIFICATE_VERIFY_FAILED] certificate verify failed: certificate has expired (_ssl.c:1007)>\n",
            "\n",
            "Downloading https://ossci-datasets.s3.amazonaws.com/mnist/train-labels-idx1-ubyte.gz\n",
            "Downloading https://ossci-datasets.s3.amazonaws.com/mnist/train-labels-idx1-ubyte.gz to ./data/MNIST/raw/train-labels-idx1-ubyte.gz\n"
          ]
        },
        {
          "output_type": "stream",
          "name": "stderr",
          "text": [
            "100%|██████████| 28881/28881 [00:00<00:00, 6131590.09it/s]"
          ]
        },
        {
          "output_type": "stream",
          "name": "stdout",
          "text": [
            "Extracting ./data/MNIST/raw/train-labels-idx1-ubyte.gz to ./data/MNIST/raw\n",
            "\n",
            "Downloading http://yann.lecun.com/exdb/mnist/t10k-images-idx3-ubyte.gz\n"
          ]
        },
        {
          "output_type": "stream",
          "name": "stderr",
          "text": [
            "\n"
          ]
        },
        {
          "output_type": "stream",
          "name": "stdout",
          "text": [
            "Failed to download (trying next):\n",
            "<urlopen error [SSL: CERTIFICATE_VERIFY_FAILED] certificate verify failed: certificate has expired (_ssl.c:1007)>\n",
            "\n",
            "Downloading https://ossci-datasets.s3.amazonaws.com/mnist/t10k-images-idx3-ubyte.gz\n",
            "Downloading https://ossci-datasets.s3.amazonaws.com/mnist/t10k-images-idx3-ubyte.gz to ./data/MNIST/raw/t10k-images-idx3-ubyte.gz\n"
          ]
        },
        {
          "output_type": "stream",
          "name": "stderr",
          "text": [
            "100%|██████████| 1648877/1648877 [00:00<00:00, 12628950.99it/s]\n"
          ]
        },
        {
          "output_type": "stream",
          "name": "stdout",
          "text": [
            "Extracting ./data/MNIST/raw/t10k-images-idx3-ubyte.gz to ./data/MNIST/raw\n",
            "\n",
            "Downloading http://yann.lecun.com/exdb/mnist/t10k-labels-idx1-ubyte.gz\n",
            "Failed to download (trying next):\n",
            "<urlopen error [SSL: CERTIFICATE_VERIFY_FAILED] certificate verify failed: certificate has expired (_ssl.c:1007)>\n",
            "\n",
            "Downloading https://ossci-datasets.s3.amazonaws.com/mnist/t10k-labels-idx1-ubyte.gz\n",
            "Downloading https://ossci-datasets.s3.amazonaws.com/mnist/t10k-labels-idx1-ubyte.gz to ./data/MNIST/raw/t10k-labels-idx1-ubyte.gz\n"
          ]
        },
        {
          "output_type": "stream",
          "name": "stderr",
          "text": [
            "100%|██████████| 4542/4542 [00:00<00:00, 7927810.56it/s]\n"
          ]
        },
        {
          "output_type": "stream",
          "name": "stdout",
          "text": [
            "Extracting ./data/MNIST/raw/t10k-labels-idx1-ubyte.gz to ./data/MNIST/raw\n",
            "\n"
          ]
        }
      ],
      "source": [
        "# Create training dataset\n",
        "\n",
        "train_dataset = dsets.MNIST(root='./data', train=True, download=True, transform=transforms.ToTensor())"
      ]
    },
    {
      "cell_type": "code",
      "execution_count": 8,
      "metadata": {
        "tags": [],
        "id": "nkjio2yBgpha"
      },
      "outputs": [],
      "source": [
        "# Create validating dataset\n",
        "\n",
        "validation_dataset = dsets.MNIST(root='./data', download=True, transform=transforms.ToTensor())"
      ]
    },
    {
      "cell_type": "code",
      "execution_count": 9,
      "metadata": {
        "tags": [],
        "id": "mT2asycDgpha"
      },
      "outputs": [],
      "source": [
        "# Create criterion function\n",
        "\n",
        "criterion = nn.CrossEntropyLoss()"
      ]
    },
    {
      "cell_type": "code",
      "execution_count": 10,
      "metadata": {
        "tags": [],
        "id": "YU5RdwRagphb"
      },
      "outputs": [],
      "source": [
        "# Create data loader for both train dataset and valdiate dataset\n",
        "\n",
        "train_loader = torch.utils.data.DataLoader(dataset=train_dataset, batch_size=2000, shuffle=True)\n",
        "validation_loader = torch.utils.data.DataLoader(dataset=validation_dataset, batch_size=5000, shuffle=False)"
      ]
    },
    {
      "cell_type": "markdown",
      "metadata": {
        "id": "JleRZnT0gphb"
      },
      "source": [
        "<h2 id=\"Train\">Define the Neural Network, Optimizer, and Train the Model</h2>\n"
      ]
    },
    {
      "cell_type": "code",
      "execution_count": 11,
      "metadata": {
        "tags": [],
        "id": "Mx8dQN2bgphb"
      },
      "outputs": [],
      "source": [
        "# Create the model with 100 neurons\n",
        "\n",
        "input_dim = 28 * 28\n",
        "hidden_dim = 100\n",
        "output_dim = 10\n",
        "\n",
        "model = Net(input_dim, hidden_dim, output_dim)"
      ]
    },
    {
      "cell_type": "code",
      "execution_count": 12,
      "metadata": {
        "tags": [],
        "colab": {
          "base_uri": "https://localhost:8080/"
        },
        "id": "f6c_lweegphc",
        "outputId": "f9f4df36-18f2-4add-f208-3242068d8c9a"
      },
      "outputs": [
        {
          "output_type": "stream",
          "name": "stdout",
          "text": [
            "The following are the parameters for the layer  1\n",
            "The size of weights:  torch.Size([100, 784])\n",
            "The size of bias:  torch.Size([100])\n",
            "The following are the parameters for the layer  2\n",
            "The size of weights:  torch.Size([10, 100])\n",
            "The size of bias:  torch.Size([10])\n"
          ]
        }
      ],
      "source": [
        "# Print the parameters for model\n",
        "\n",
        "print_model_parameters(model)"
      ]
    },
    {
      "cell_type": "code",
      "execution_count": 13,
      "metadata": {
        "tags": [],
        "id": "yO-nJZAygphc"
      },
      "outputs": [],
      "source": [
        "# Set the learning rate and the optimizer\n",
        "\n",
        "learning_rate = 0.01\n",
        "optimizer = torch.optim.SGD(model.parameters(), lr=learning_rate)"
      ]
    },
    {
      "cell_type": "code",
      "execution_count": 14,
      "metadata": {
        "tags": [],
        "id": "K6Ikj-Zygphd"
      },
      "outputs": [],
      "source": [
        "# Train the model\n",
        "\n",
        "training_results = train(model, criterion, train_loader, validation_loader, optimizer, epochs=30)"
      ]
    },
    {
      "cell_type": "markdown",
      "metadata": {
        "id": "Q6S4-UYHgphd"
      },
      "source": [
        "<!--Empty Space for separating topics-->\n"
      ]
    },
    {
      "cell_type": "markdown",
      "metadata": {
        "id": "gWYo0bGQgphd"
      },
      "source": [
        "<h2 id=\"Result\">Analyze Results</h2>\n"
      ]
    },
    {
      "cell_type": "code",
      "execution_count": 15,
      "metadata": {
        "tags": [],
        "colab": {
          "base_uri": "https://localhost:8080/",
          "height": 472
        },
        "id": "uCBKWOO6gphe",
        "outputId": "a6915981-17be-4dff-82a8-4bd0dd9f03f3"
      },
      "outputs": [
        {
          "output_type": "display_data",
          "data": {
            "text/plain": [
              "<Figure size 640x480 with 2 Axes>"
            ],
            "image/png": "[encoded data removed]"
          },
          "metadata": {}
        }
      ],
      "source": [
        "# Plot the accuracy and loss\n",
        "\n",
        "plot_accuracy_loss(training_results)"
      ]
    },
    {
      "cell_type": "code",
      "execution_count": 16,
      "metadata": {
        "tags": [],
        "colab": {
          "base_uri": "https://localhost:8080/",
          "height": 1000
        },
        "id": "Yk8EhdYhgphe",
        "outputId": "c00fd682-1080-4ebb-aaee-4c8b1408cdb6"
      },
      "outputs": [
        {
          "output_type": "display_data",
          "data": {
            "text/plain": [
              "<Figure size 640x480 with 1 Axes>"
            ],
            "image/png": "[encoded data removed]"
          },
          "metadata": {}
        },
        {
          "output_type": "display_data",
          "data": {
            "text/plain": [
              "<Figure size 640x480 with 1 Axes>"
            ],
            "image/png": "[encoded data removed]"
          },
          "metadata": {}
        },
        {
          "output_type": "display_data",
          "data": {
            "text/plain": [
              "<Figure size 640x480 with 1 Axes>"
            ],
            "image/png": "[encoded data removed]"
          },
          "metadata": {}
        },
        {
          "output_type": "display_data",
          "data": {
            "text/plain": [
              "<Figure size 640x480 with 1 Axes>"
            ],
            "image/png": "[encoded data removed]"
          },
          "metadata": {}
        },
        {
          "output_type": "display_data",
          "data": {
            "text/plain": [
              "<Figure size 640x480 with 1 Axes>"
            ],
            "image/png": "[encoded data removed]"
          },
          "metadata": {}
        }
      ],
      "source": [
        "# Plot the first five misclassified samples\n",
        "\n",
        "count = 0\n",
        "for x, y in validation_dataset:\n",
        "    z = model(x.reshape(-1, 28 * 28))\n",
        "    _,yhat = torch.max(z, 1)\n",
        "    if yhat != y:\n",
        "        show_data(x)\n",
        "        count += 1\n",
        "    if count >= 5:\n",
        "        break"
      ]
    }
  ],
  "metadata": {
    "kernelspec": {
      "display_name": "Python",
      "language": "python",
      "name": "conda-env-python-py"
    },
    "language_info": {
      "codemirror_mode": {
        "name": "ipython",
        "version": 3
      },
      "file_extension": ".py",
      "mimetype": "text/x-python",
      "name": "python",
      "nbconvert_exporter": "python",
      "pygments_lexer": "ipython3",
      "version": "3.7.12"
    },
    "colab": {
      "provenance": []
    }
  },
  "nbformat": 4,
  "nbformat_minor": 0
}